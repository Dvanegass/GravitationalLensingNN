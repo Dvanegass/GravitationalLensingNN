{
  "nbformat": 4,
  "nbformat_minor": 0,
  "metadata": {
    "colab": {
      "provenance": []
    },
    "kernelspec": {
      "name": "python3",
      "display_name": "Python 3"
    },
    "language_info": {
      "name": "python"
    }
  },
  "cells": [
    {
      "cell_type": "markdown",
      "source": [
        "# **Generación imágenes**"
      ],
      "metadata": {
        "id": "xuMVy8TwkUlP"
      }
    },
    {
      "cell_type": "code",
      "source": [
        "import numpy as np\n",
        "import matplotlib.pyplot as plt\n",
        "import pandas as pd\n",
        "\n",
        "from astropy.io import fits\n",
        "from astropy.wcs import WCS\n",
        "from astropy.table import Table\n",
        "\n",
        "import warnings\n",
        "warnings.filterwarnings('ignore')"
      ],
      "metadata": {
        "id": "ox2gWhHsipeI"
      },
      "execution_count": 1,
      "outputs": []
    },
    {
      "cell_type": "code",
      "source": [
        "import glob\n",
        "\n",
        "ImagesFinal = []\n",
        "\n",
        "for k in range(1,5):\n",
        "  carpeta = f'/Imagenes Lentes/1E0{k}/'\n",
        "  archivos = glob.glob(carpeta + '*.fits')\n",
        "\n",
        "  i = 0\n",
        "  for j in archivos:\n",
        "    F = fits.open(archivos[i])\n",
        "    Data = F[0].data\n",
        "    ImagesFinal.append(Data)\n",
        "    i += 1\n",
        "    if i == 500: break\n",
        "\n",
        "len(ImagesFinal), ImagesFinal[0].shape"
      ],
      "metadata": {
        "id": "--HJ75OWr-HX",
        "colab": {
          "base_uri": "https://localhost:8080/"
        },
        "outputId": "88b7dd73-73bb-4627-fad8-5c2d8b889a9a"
      },
      "execution_count": 2,
      "outputs": [
        {
          "output_type": "execute_result",
          "data": {
            "text/plain": [
              "(2000, (512, 512))"
            ]
          },
          "metadata": {},
          "execution_count": 2
        }
      ]
    },
    {
      "cell_type": "code",
      "source": [
        "Num = ['09','10','11','12','13','14','15']\n",
        "\n",
        "for k in Num:\n",
        "  carpeta = f'/Imagenes Lentes/1E{k}/'\n",
        "  archivos = glob.glob(carpeta + '*.fits')\n",
        "\n",
        "  i = 0\n",
        "  for j in archivos:\n",
        "    F = fits.open(archivos[i])\n",
        "    Data = F[0].data\n",
        "    ImagesFinal.append(Data)\n",
        "    i += 1\n",
        "    if i == 500: break\n",
        "\n",
        "len(ImagesFinal), ImagesFinal[0].shape"
      ],
      "metadata": {
        "id": "spttL8ay8b2A",
        "colab": {
          "base_uri": "https://localhost:8080/"
        },
        "outputId": "cbfc3fa7-59b3-458c-ead7-b5ca61caee3b"
      },
      "execution_count": 3,
      "outputs": [
        {
          "output_type": "execute_result",
          "data": {
            "text/plain": [
              "(5500, (512, 512))"
            ]
          },
          "metadata": {},
          "execution_count": 3
        }
      ]
    },
    {
      "cell_type": "code",
      "source": [
        "ArregloImagenes = np.array(ImagesFinal)\n",
        "ArregloImagenes.shape"
      ],
      "metadata": {
        "id": "SiBaRRqk0uni",
        "colab": {
          "base_uri": "https://localhost:8080/"
        },
        "outputId": "a10bad6f-d0ae-4494-e817-abc6f96f9404"
      },
      "execution_count": 4,
      "outputs": [
        {
          "output_type": "execute_result",
          "data": {
            "text/plain": [
              "(5500, 512, 512)"
            ]
          },
          "metadata": {},
          "execution_count": 4
        }
      ]
    },
    {
      "cell_type": "code",
      "source": [
        "output_filename = '/Imagenes Lentes/ImagenesTotales.npy'\n",
        "np.save(output_filename, ArregloImagenes)\n",
        "\n",
        "print('Archivo guardado en /Imagenes Lentes/ImagenesTotales.npy')\n",
        "\n",
        "hdu = fits.PrimaryHDU(ArregloImagenes)\n",
        "hdul = fits.HDUList([hdu])\n",
        "output_filename = '/Imagenes Lentes/ImagenesTotales.fits'\n",
        "hdul.writeto(output_filename, overwrite=True)\n",
        "print('Archivo guardado en /Imagenes Lentes/ImagenesTotales.fits')"
      ],
      "metadata": {
        "id": "in-FtnJzE6RB",
        "colab": {
          "base_uri": "https://localhost:8080/"
        },
        "outputId": "06d43f0d-57c7-4bc6-cb15-c6ec80edaa84"
      },
      "execution_count": 5,
      "outputs": [
        {
          "output_type": "stream",
          "name": "stdout",
          "text": [
            "Archivo guardado en /Imagenes Lentes/ImagenesTotales.npy\n",
            "Archivo guardado en /Imagenes Lentes/ImagenesTotales.fits\n"
          ]
        }
      ]
    },
    {
      "cell_type": "code",
      "source": [
        "Labels00 = np.zeros(2000)\n",
        "Labels01 = np.ones(3500)"
      ],
      "metadata": {
        "id": "d6K3-maiFeZC"
      },
      "execution_count": 6,
      "outputs": []
    },
    {
      "cell_type": "code",
      "source": [
        "len(Labels00), Labels00.shape, Labels00"
      ],
      "metadata": {
        "id": "HZ7gmFT3gt_U",
        "colab": {
          "base_uri": "https://localhost:8080/"
        },
        "outputId": "80529b99-2f82-4661-f812-8d32eb445ca1"
      },
      "execution_count": 7,
      "outputs": [
        {
          "output_type": "execute_result",
          "data": {
            "text/plain": [
              "(2000, (2000,), array([0., 0., 0., ..., 0., 0., 0.]))"
            ]
          },
          "metadata": {},
          "execution_count": 7
        }
      ]
    },
    {
      "cell_type": "code",
      "source": [
        "len(Labels01), Labels01.shape, Labels01"
      ],
      "metadata": {
        "id": "q9uTbjv0gy_G",
        "colab": {
          "base_uri": "https://localhost:8080/"
        },
        "outputId": "5c8e30a8-f29c-4fbd-a14f-53a04a3fdea0"
      },
      "execution_count": 8,
      "outputs": [
        {
          "output_type": "execute_result",
          "data": {
            "text/plain": [
              "(3500, (3500,), array([1., 1., 1., ..., 1., 1., 1.]))"
            ]
          },
          "metadata": {},
          "execution_count": 8
        }
      ]
    },
    {
      "cell_type": "code",
      "source": [
        "LabelsFinal = np.concatenate([Labels00, Labels01])\n",
        "len(LabelsFinal), LabelsFinal.shape, LabelsFinal"
      ],
      "metadata": {
        "colab": {
          "base_uri": "https://localhost:8080/"
        },
        "id": "zpbW2WszHcKi",
        "outputId": "669d1435-771a-41d4-9b40-177f6b1a1d3a"
      },
      "execution_count": 9,
      "outputs": [
        {
          "output_type": "execute_result",
          "data": {
            "text/plain": [
              "(5500, (5500,), array([0., 0., 0., ..., 1., 1., 1.]))"
            ]
          },
          "metadata": {},
          "execution_count": 9
        }
      ]
    },
    {
      "cell_type": "code",
      "source": [
        "output_filename = '/Imagenes Lentes/Labels.npy'\n",
        "np.save(output_filename, LabelsFinal)\n",
        "print('Archivo guardado en /Imagenes Lentes/Labels.npy')"
      ],
      "metadata": {
        "id": "7TF9vZXqITdC",
        "colab": {
          "base_uri": "https://localhost:8080/"
        },
        "outputId": "a8822b51-de34-4a5c-ec97-6584162a24a2"
      },
      "execution_count": 10,
      "outputs": [
        {
          "output_type": "stream",
          "name": "stdout",
          "text": [
            "Archivo guardado en /Imagenes Lentes/Labels.npy\n"
          ]
        }
      ]
    },
    {
      "cell_type": "markdown",
      "source": [
        "# **Visualización imágenes**\n"
      ],
      "metadata": {
        "id": "lyTbIer4kGw5"
      }
    },
    {
      "cell_type": "code",
      "source": [
        "Imagenes = np.load('/content/drive/MyDrive/Carpetas Universidad/Colab Notebooks/Imagenes Lentes/ImagenesTotales.npy')"
      ],
      "metadata": {
        "id": "aRPlzumC55ge"
      },
      "execution_count": 2,
      "outputs": []
    },
    {
      "cell_type": "code",
      "source": [
        "i = int(np.random.rand(1)*5500)\n",
        "print(f'Imagen número {i}')\n",
        "\n",
        "if i/500 < 4: print('Imagen sin efecto de lente.')\n",
        "else: print('Imagen con efecto de lente.')\n",
        "\n",
        "plt.figure(figsize = (10,12))\n",
        "plt.imshow(Imagenes[i], origin = 'lower', cmap = 'gray')\n",
        "plt.xticks([])\n",
        "plt.yticks([])\n",
        "plt.show()\n",
        "\n",
        "#3238 5234 4020 5435 70 2109 5102 393 1060 1700 1398 4240 2466"
      ],
      "metadata": {
        "id": "6ACVCCV-6mfY",
        "colab": {
          "base_uri": "https://localhost:8080/",
          "height": 847
        },
        "outputId": "db44ae49-9bb0-4627-a053-5cb481e2dbc5"
      },
      "execution_count": 6,
      "outputs": [
        {
          "output_type": "stream",
          "name": "stdout",
          "text": [
            "Imagen número 4302\n",
            "Imagen con efecto de lente.\n"
          ]
        },
        {
          "output_type": "display_data",
          "data": {
            "text/plain": [
              "<Figure size 1000x1200 with 1 Axes>"
            ],
            "image/png": "[encoded data removed]"
          },
          "metadata": {}
        }
      ]
    },
    {
      "cell_type": "code",
      "source": [
        "Fits = '/content/drive/MyDrive/Carpetas Universidad/Colab Notebooks/Imagenes Lentes/ImagenesTotales.fits'"
      ],
      "metadata": {
        "id": "lh6q4stsyc5G"
      },
      "execution_count": 4,
      "outputs": []
    },
    {
      "cell_type": "code",
      "source": [
        "print(f'Imagen número {i}')\n",
        "\n",
        "if i/500 < 4: print('Imagen sin efecto de lente.')\n",
        "else: print('Imagen con efecto de lente.')\n",
        "\n",
        "I = fits.open(Fits)\n",
        "ImagenFits = I[0].data[i]\n",
        "\n",
        "Percentile_low = np.percentile(ImagenFits, 80)\n",
        "Percentile_high = np.percentile(ImagenFits, 99.9)\n",
        "\n",
        "ImagenFitsClipped = np.clip(ImagenFits, Percentile_low, Percentile_high)\n",
        "\n",
        "plt.figure(figsize=(10, 12))\n",
        "plt.imshow(ImagenFitsClipped, origin='lower', cmap='gray')\n",
        "plt.xticks([])\n",
        "plt.yticks([])\n",
        "plt.show()"
      ],
      "metadata": {
        "id": "76wpyTD2oPPc",
        "colab": {
          "base_uri": "https://localhost:8080/",
          "height": 847
        },
        "outputId": "6ea0c754-b823-4ba6-e936-29bfaa2661ef"
      },
      "execution_count": 7,
      "outputs": [
        {
          "output_type": "stream",
          "name": "stdout",
          "text": [
            "Imagen número 4302\n",
            "Imagen con efecto de lente.\n"
          ]
        },
        {
          "output_type": "display_data",
          "data": {
            "text/plain": [
              "<Figure size 1000x1200 with 1 Axes>"
            ],
            "image/png": "[encoded data removed]"
          },
          "metadata": {}
        }
      ]
    }
  ]
}